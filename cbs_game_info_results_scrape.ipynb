{
 "cells": [
  {
   "cell_type": "code",
   "execution_count": 22,
   "metadata": {},
   "outputs": [],
   "source": [
    "# Libraries\n",
    "from bs4 import BeautifulSoup, Comment\n",
    "import numpy as np\n",
    "import pandas as pd\n",
    "import urllib.request\n",
    "import requests\n",
    "import random\n",
    "import datetime\n",
    "import math"
   ]
  },
  {
   "cell_type": "markdown",
   "metadata": {},
   "source": [
    "## Game Objects"
   ]
  },
  {
   "cell_type": "code",
   "execution_count": 9,
   "metadata": {},
   "outputs": [],
   "source": [
    "class GameInfo:\n",
    "    def __init__(self, home_team, away_team, home_spread, away_spread, over_under=None):\n",
    "        self.home_team = home_team\n",
    "        self.away_team = away_team\n",
    "        self.home_spread = home_spread\n",
    "        self.away_spread = away_spread\n",
    "        self.over_under = over_under\n",
    "    def __str__(self):\n",
    "        return(self.away_team + ' (' + str(self.away_spread) + ') @ '\n",
    "               +self.home_team + '\\n' +\n",
    "              'O/U: ' + str(self.over_under))"
   ]
  },
  {
   "cell_type": "code",
   "execution_count": 10,
   "metadata": {},
   "outputs": [],
   "source": [
    "class GameResults:\n",
    "    def __init__(self, home_team, away_team, home_score, away_score):\n",
    "        self.home_team = home_team\n",
    "        self.away_team = away_team\n",
    "        self.home_score = home_score\n",
    "        self.away_score = away_score\n",
    "        self.total = home_score + away_score\n",
    "        self.winner = home_team if home_score > away_score else away_team if away_score > home_score else 'tie'\n",
    "    def __str__(self):\n",
    "        return(self.home_team +' (home): '+ str(self.home_score) + '\\n' +\n",
    "              self.away_team +' (away): '+ str(self.away_score) + '\\n' +\n",
    "              'Total: '+ str(self.total))"
   ]
  },
  {
   "cell_type": "markdown",
   "metadata": {},
   "source": [
    "## Game Info scrape"
   ]
  },
  {
   "cell_type": "code",
   "execution_count": 6,
   "metadata": {},
   "outputs": [],
   "source": [
    "def get_game_info(score_box):\n",
    "    odds = score_box.find_all('td', {'class': 'in-progress-odds'})\n",
    "    over_under = float(odds[0].text.strip()[1:])\n",
    "    home_line = float(odds[1].text.strip())\n",
    "    teams = score_box.find_all('td', {'class': 'team'})\n",
    "    away_team = teams[0].find('a')['href'].split('/')[5]\n",
    "    home_team = teams[1].find('a')['href'].split('/')[5]\n",
    "    game_info_obj = GameInfo(home_team, away_team, home_line, home_line * -1, over_under)\n",
    "    return(game_info_obj)"
   ]
  },
  {
   "cell_type": "code",
   "execution_count": 11,
   "metadata": {},
   "outputs": [],
   "source": [
    "def get_game_info_list(week_num):\n",
    "    link = 'https://www.cbssports.com/nfl/scoreboard/all/2021/regular/' + str(week_num) + '/'\n",
    "    with urllib.request.urlopen(link) as url:\n",
    "        page = url.read()\n",
    "    soup = BeautifulSoup(page, \"html.parser\")\n",
    "    # list of game info boxes for all games\n",
    "    score_boxes = soup.find_all('div', {'class':'live-update'})\n",
    "    game_info_list = []\n",
    "    for score_box in score_boxes:\n",
    "        #print(score_box)\n",
    "        game_info_list.append(get_game_info(score_box))\n",
    "    return(game_info_list)"
   ]
  },
  {
   "cell_type": "code",
   "execution_count": 12,
   "metadata": {},
   "outputs": [
    {
     "name": "stdout",
     "output_type": "stream",
     "text": [
      "CAR (-4.0) @ HOU\n",
      "O/U: 45.0\n"
     ]
    }
   ],
   "source": [
    "week_num = 3\n",
    "game_info_list = get_game_info_list(week_num)\n",
    "print(game_info_list[0])"
   ]
  },
  {
   "cell_type": "markdown",
   "metadata": {},
   "source": [
    "## Game Result scrape"
   ]
  },
  {
   "cell_type": "code",
   "execution_count": 13,
   "metadata": {},
   "outputs": [],
   "source": [
    "def get_game_result(t):\n",
    "    teams = t.find_all('a', {'class': 'team'})\n",
    "    away_team = teams[0]['href'].split('/')[5]\n",
    "    home_team = teams[1]['href'].split('/')[5]\n",
    "    scores = t.find_all('td', {'class': 'total-score'})\n",
    "    game_result_obj = GameResults(home_team, away_team, int(scores[1].text), int(scores[0].text))\n",
    "    return(game_result_obj)"
   ]
  },
  {
   "cell_type": "code",
   "execution_count": 14,
   "metadata": {},
   "outputs": [],
   "source": [
    "def get_game_result_list(week_num):\n",
    "    link = 'https://www.cbssports.com/nfl/scoreboard/all/2021/regular/' + str(week_num) + '/'\n",
    "    with urllib.request.urlopen(link) as url:\n",
    "        page = url.read()\n",
    "    soup = BeautifulSoup(page, \"html.parser\")\n",
    "    t_list = soup.find_all('div', {'class': 'live-update'})\n",
    "    game_result_list = []\n",
    "    for t in t_list:\n",
    "        game_result_list.append(get_game_result(t))\n",
    "    return(game_result_list)"
   ]
  },
  {
   "cell_type": "code",
   "execution_count": 15,
   "metadata": {},
   "outputs": [
    {
     "name": "stdout",
     "output_type": "stream",
     "text": [
      "LV (home): 33\n",
      "BAL (away): 27\n",
      "Total: 60\n"
     ]
    }
   ],
   "source": [
    "# run scraper\n",
    "week_num = 1\n",
    "game_result_list = get_game_result_list(week_num)\n",
    "print(game_result_list[0])"
   ]
  },
  {
   "cell_type": "markdown",
   "metadata": {},
   "source": [
    "## Generate Datasets"
   ]
  },
  {
   "cell_type": "code",
   "execution_count": 16,
   "metadata": {},
   "outputs": [
    {
     "name": "stdout",
     "output_type": "stream",
     "text": [
      "['HOU', 'CAR', 'JAC', 'ARI', 'NYG', 'ATL', 'DET', 'BAL', 'CLE', 'CHI', 'PIT', 'CIN', 'TEN', 'IND', 'KC', 'LAC', 'NE', 'NO', 'BUF', 'WAS', 'LV', 'MIA', 'DEN', 'NYJ', 'MIN', 'SEA', 'LAR', 'TB', 'SF', 'GB', 'DAL', 'PHI']\n"
     ]
    }
   ],
   "source": [
    "teams = []\n",
    "for game in game_info_list:\n",
    "    teams.append(game.home_team)\n",
    "    teams.append(game.away_team)\n",
    "print(teams)"
   ]
  },
  {
   "cell_type": "code",
   "execution_count": 17,
   "metadata": {},
   "outputs": [],
   "source": [
    "def get_fake_data():\n",
    "    # initiate possible values\n",
    "    teams = ['HOU', 'CAR', 'JAC', 'ARI', 'NYG', 'ATL', 'DET', 'BAL', 'CLE', 'CHI', 'PIT', 'CIN', 'TEN', 'IND', 'KC', 'LAC', 'NE', 'NO', 'BUF', 'WAS', 'LV', 'MIA', 'DEN', 'NYJ', 'MIN', 'SEA', 'LAR', 'TB', 'SF', 'GB', 'DAL', 'PHI']\n",
    "    spreads = list(np.arange(-10, 10, 0.5))\n",
    "    over_unders = list(np.arange(33, 53, 0.5))\n",
    "    scores = range(14, 42)\n",
    "    # generate a full week of fake games\n",
    "    fake_games_list = []\n",
    "    fake_results_list = []\n",
    "    for i in range(16):\n",
    "        spread = random.choice(spreads)\n",
    "        home_team = random.choice(teams)\n",
    "        teams.remove(home_team)\n",
    "        away_team = random.choice(teams)\n",
    "        teams.remove(away_team)\n",
    "        ou = random.choice(over_unders)\n",
    "        fake_games_list.append(GameInfo(home_team, away_team, spread, -1 * spread, ou))\n",
    "        fake_results_list.append(GameResults(home_team, away_team,\n",
    "                                            random.choice(scores), random.choice(scores)))\n",
    "    return(fake_games_list, fake_results_list)"
   ]
  },
  {
   "cell_type": "code",
   "execution_count": 18,
   "metadata": {},
   "outputs": [
    {
     "name": "stdout",
     "output_type": "stream",
     "text": [
      "LV (-2.0) @ MIA\n",
      "O/U: 52.5\n",
      "MIA (home): 16\n",
      "LV (away): 22\n",
      "Total: 38\n",
      "TB (4.0) @ LAR\n",
      "O/U: 50.5\n",
      "LAR (home): 37\n",
      "TB (away): 15\n",
      "Total: 52\n",
      "IND (-4.0) @ NO\n",
      "O/U: 33.0\n",
      "NO (home): 16\n",
      "IND (away): 33\n",
      "Total: 49\n",
      "TEN (-1.5) @ HOU\n",
      "O/U: 39.0\n",
      "HOU (home): 34\n",
      "TEN (away): 40\n",
      "Total: 74\n",
      "GB (4.0) @ BUF\n",
      "O/U: 39.5\n",
      "BUF (home): 18\n",
      "GB (away): 22\n",
      "Total: 40\n",
      "DAL (-8.5) @ PHI\n",
      "O/U: 37.0\n",
      "PHI (home): 31\n",
      "DAL (away): 17\n",
      "Total: 48\n",
      "CIN (-9.0) @ ARI\n",
      "O/U: 40.0\n",
      "ARI (home): 18\n",
      "CIN (away): 16\n",
      "Total: 34\n",
      "DET (4.0) @ BAL\n",
      "O/U: 42.5\n",
      "BAL (home): 35\n",
      "DET (away): 30\n",
      "Total: 65\n",
      "KC (-1.0) @ CLE\n",
      "O/U: 51.0\n",
      "CLE (home): 27\n",
      "KC (away): 21\n",
      "Total: 48\n",
      "PIT (-9.0) @ LAC\n",
      "O/U: 33.0\n",
      "LAC (home): 22\n",
      "PIT (away): 24\n",
      "Total: 46\n",
      "SF (1.0) @ WAS\n",
      "O/U: 37.0\n",
      "WAS (home): 24\n",
      "SF (away): 24\n",
      "Total: 48\n",
      "SEA (-7.5) @ CAR\n",
      "O/U: 51.0\n",
      "CAR (home): 26\n",
      "SEA (away): 35\n",
      "Total: 61\n",
      "MIN (-3.5) @ JAC\n",
      "O/U: 48.0\n",
      "JAC (home): 22\n",
      "MIN (away): 35\n",
      "Total: 57\n",
      "NYG (-5.5) @ NYJ\n",
      "O/U: 40.0\n",
      "NYJ (home): 28\n",
      "NYG (away): 20\n",
      "Total: 48\n",
      "ATL (-2.0) @ NE\n",
      "O/U: 35.5\n",
      "NE (home): 29\n",
      "ATL (away): 33\n",
      "Total: 62\n",
      "CHI (-2.0) @ DEN\n",
      "O/U: 33.0\n",
      "DEN (home): 30\n",
      "CHI (away): 17\n",
      "Total: 47\n"
     ]
    }
   ],
   "source": [
    "fake_games, fake_results = get_fake_data()\n",
    "for i in range(len(fake_games)):\n",
    "    print(fake_games[i])\n",
    "    print(fake_results[i])"
   ]
  },
  {
   "cell_type": "markdown",
   "metadata": {},
   "source": [
    "## Helper functions"
   ]
  },
  {
   "cell_type": "code",
   "execution_count": 55,
   "metadata": {},
   "outputs": [],
   "source": [
    "# function for returning the week of the NFL season\n",
    "# :param dt: datetime object (can change input type if necessary)\n",
    "# :return: tuple of (week number, year)\n",
    "def get_week_season(dt):\n",
    "    day_of_year = dt.timetuple().tm_yday\n",
    "    # 252 was the day of year the season started\n",
    "    # handling final weeks of season in 2022\n",
    "    if day_of_year < 251:\n",
    "        day_of_year += 365\n",
    "    week_num = math.ceil((day_of_year - 251) / 7)\n",
    "    return((dt.year, week_num))"
   ]
  },
  {
   "cell_type": "code",
   "execution_count": 56,
   "metadata": {},
   "outputs": [
    {
     "data": {
      "text/plain": [
       "(2021, 16)"
      ]
     },
     "execution_count": 56,
     "metadata": {},
     "output_type": "execute_result"
    }
   ],
   "source": [
    "d = datetime.date(2021, 12, 23)\n",
    "get_week_season(d)"
   ]
  },
  {
   "cell_type": "code",
   "execution_count": null,
   "metadata": {},
   "outputs": [],
   "source": []
  }
 ],
 "metadata": {
  "kernelspec": {
   "display_name": "Python 3",
   "language": "python",
   "name": "python3"
  },
  "language_info": {
   "codemirror_mode": {
    "name": "ipython",
    "version": 3
   },
   "file_extension": ".py",
   "mimetype": "text/x-python",
   "name": "python",
   "nbconvert_exporter": "python",
   "pygments_lexer": "ipython3",
   "version": "3.7.7"
  }
 },
 "nbformat": 4,
 "nbformat_minor": 2
}
