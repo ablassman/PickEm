{
 "cells": [
  {
   "cell_type": "code",
   "execution_count": 164,
   "metadata": {},
   "outputs": [],
   "source": [
    "# Libraries\n",
    "from bs4 import BeautifulSoup, Comment\n",
    "import numpy as np\n",
    "import pandas as pd\n",
    "import urllib.request\n",
    "import requests"
   ]
  },
  {
   "cell_type": "markdown",
   "metadata": {},
   "source": [
    "## Game Objects"
   ]
  },
  {
   "cell_type": "code",
   "execution_count": 165,
   "metadata": {},
   "outputs": [],
   "source": [
    "class GameInfo:\n",
    "    def __init__(self, home_team, away_team, home_spread, away_spread, over_under=None):\n",
    "        self.home_team = home_team\n",
    "        self.away_team = away_team\n",
    "        self.home_spread = home_spread\n",
    "        self.away_spread = away_spread\n",
    "        self.over_under = over_under"
   ]
  },
  {
   "cell_type": "code",
   "execution_count": 166,
   "metadata": {},
   "outputs": [],
   "source": [
    "class GameResults:\n",
    "    def __init__(self, home_team, away_team, home_score, away_score):\n",
    "        self.home_team = home_team\n",
    "        self.away_team = away_team\n",
    "        self.home_score = home_score\n",
    "        self.away_score = away_score\n",
    "        self.total = home_score + away_score\n",
    "        self.winner = home_team if home_score > away_score else away_team if away_score > home_score else 'tie' "
   ]
  },
  {
   "cell_type": "markdown",
   "metadata": {},
   "source": [
    "## Game Info scrape"
   ]
  },
  {
   "cell_type": "code",
   "execution_count": 180,
   "metadata": {},
   "outputs": [],
   "source": [
    "def get_game_info(score_box):\n",
    "    odds = score_box.find_all('td', {'class': 'in-progress-odds'})\n",
    "    over_under = float(odds[0].text.strip()[1:])\n",
    "    home_line = float(odds[1].text.strip())\n",
    "    teams = score_box.find_all('td', {'class': 'team'})\n",
    "    away_team = teams[0].find('a')['href'].split('/')[5]\n",
    "    home_team = teams[1].find('a')['href'].split('/')[5]\n",
    "    game_info_obj = GameInfo(home_team, away_team, home_line, home_line * -1, over_under)\n",
    "    return(game_info_obj)"
   ]
  },
  {
   "cell_type": "code",
   "execution_count": 181,
   "metadata": {},
   "outputs": [],
   "source": [
    "week_num = 3\n",
    "link = 'https://www.cbssports.com/nfl/scoreboard/all/2021/regular/' + str(week_num) + '/'\n",
    "with urllib.request.urlopen(link) as url:\n",
    "    page = url.read()\n",
    "soup = BeautifulSoup(page, \"html.parser\")\n",
    "# list of game info boxes for all games\n",
    "score_boxes = soup.find_all('div', {'class':'live-update'})\n",
    "game_info_list = []\n",
    "for score_box in score_boxes:\n",
    "    #print(score_box)\n",
    "    game_info_list.append(get_game_info(score_box))"
   ]
  },
  {
   "cell_type": "code",
   "execution_count": 182,
   "metadata": {},
   "outputs": [
    {
     "name": "stdout",
     "output_type": "stream",
     "text": [
      "TEN\n",
      "IND\n",
      "-3.0\n",
      "3.0\n",
      "52.0\n"
     ]
    }
   ],
   "source": [
    "# test\n",
    "print(game_info_list[6].home_team)\n",
    "print(game_info_list[6].away_team)\n",
    "print(game_info_list[6].home_spread)\n",
    "print(game_info_list[6].away_spread)\n",
    "print(game_info_list[6].over_under)"
   ]
  },
  {
   "cell_type": "markdown",
   "metadata": {},
   "source": [
    "## Game Result scrape"
   ]
  },
  {
   "cell_type": "code",
   "execution_count": 177,
   "metadata": {},
   "outputs": [],
   "source": [
    "def get_game_results(t):\n",
    "    teams = t.find_all('a', {'class': 'team'})\n",
    "    away_team = teams[0]['href'].split('/')[5]\n",
    "    home_team = teams[1]['href'].split('/')[5]\n",
    "    scores = t.find_all('td', {'class': 'total-score'})\n",
    "    game_result_obj = GameResults(home_team, away_team, int(scores[1].text), int(scores[0].text))\n",
    "    return(game_result_obj)"
   ]
  },
  {
   "cell_type": "code",
   "execution_count": 178,
   "metadata": {},
   "outputs": [],
   "source": [
    "week_num = 1\n",
    "link = 'https://www.cbssports.com/nfl/scoreboard/all/2021/regular/' + str(week_num) + '/'\n",
    "with urllib.request.urlopen(link) as url:\n",
    "    page = url.read()\n",
    "soup = BeautifulSoup(page, \"html.parser\")\n",
    "t_list = soup.find_all('div', {'class': 'live-update'})\n",
    "game_result_list = []\n",
    "for t in t_list:\n",
    "    game_result_list.append(get_game_results(t))"
   ]
  },
  {
   "cell_type": "code",
   "execution_count": 179,
   "metadata": {},
   "outputs": [
    {
     "name": "stdout",
     "output_type": "stream",
     "text": [
      "ATL\n",
      "PHI\n",
      "6\n",
      "32\n",
      "38\n",
      "PHI\n"
     ]
    }
   ],
   "source": [
    "# test\n",
    "print(game_result_list[6].home_team)\n",
    "print(game_result_list[6].away_team)\n",
    "print(game_result_list[6].home_score)\n",
    "print(game_result_list[6].away_score)\n",
    "print(game_result_list[6].total)\n",
    "print(game_result_list[6].winner)"
   ]
  },
  {
   "cell_type": "code",
   "execution_count": null,
   "metadata": {},
   "outputs": [],
   "source": []
  }
 ],
 "metadata": {
  "kernelspec": {
   "display_name": "Python 3",
   "language": "python",
   "name": "python3"
  },
  "language_info": {
   "codemirror_mode": {
    "name": "ipython",
    "version": 3
   },
   "file_extension": ".py",
   "mimetype": "text/x-python",
   "name": "python",
   "nbconvert_exporter": "python",
   "pygments_lexer": "ipython3",
   "version": "3.7.7"
  }
 },
 "nbformat": 4,
 "nbformat_minor": 2
}
